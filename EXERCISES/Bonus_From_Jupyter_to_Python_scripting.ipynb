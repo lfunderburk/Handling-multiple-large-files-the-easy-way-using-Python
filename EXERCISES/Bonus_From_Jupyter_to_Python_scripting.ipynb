{
 "cells": [
  {
   "cell_type": "markdown",
   "metadata": {},
   "source": [
    "### Bonus: From Jupyter Notebook to scripting\n",
    "\n",
    "Author: Laura Gutierrez Funderburk\n",
    "\n",
    "Created on: April 18 2018\n",
    "\n",
    "Last modified on: April 23 2018\n",
    "\n",
    "#### Abstract\n",
    "\n",
    "This is a free-for-all exercise. Use this Notebook as an opportunity to practice defining functions that involve comprehension lists, dictionaries and dataframes. \n",
    "\n",
    "Your goal in this exercise is to write a .py script that you can run. I will outline a few useful tips and commands. The room is yours to explore! Feel free to use the data files I have provided. \n",
    "\n",
    "\n",
    "#### Tips\n",
    "\n",
    "To create a new .py script simply click on New... Text > File on Jupyter's main page \n",
    "\n",
    "![Image](Bonus.png)\n",
    "\n",
    "Ensure to save as my_script.py!\n",
    "\n",
    "Once done, you are ready to import libraries and define functions. \n",
    "\n",
    "One way you can use Jupyter notebooks to your advantage when writing scripts is that you can test small cases, define functions for the general case and test before storing a functional version in your script. \n",
    "\n",
    "Once you are happy with your script, you can test it on Jupyter via the run command. Like this:"
   ]
  },
  {
   "cell_type": "code",
   "execution_count": null,
   "metadata": {},
   "outputs": [],
   "source": [
    "%run -i my_script.py"
   ]
  },
  {
   "cell_type": "markdown",
   "metadata": {},
   "source": [
    "Happy coding and scripting!"
   ]
  }
 ],
 "metadata": {
  "kernelspec": {
   "display_name": "Python 3",
   "language": "python",
   "name": "python3"
  },
  "language_info": {
   "codemirror_mode": {
    "name": "ipython",
    "version": 3
   },
   "file_extension": ".py",
   "mimetype": "text/x-python",
   "name": "python",
   "nbconvert_exporter": "python",
   "pygments_lexer": "ipython3",
   "version": "3.6.4"
  }
 },
 "nbformat": 4,
 "nbformat_minor": 2
}
