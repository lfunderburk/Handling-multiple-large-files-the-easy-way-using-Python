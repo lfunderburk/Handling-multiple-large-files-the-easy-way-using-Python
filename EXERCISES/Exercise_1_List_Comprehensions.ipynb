{
 "cells": [
  {
   "cell_type": "markdown",
   "metadata": {},
   "source": [
    "# Exercise 1: List comprehensions\n",
    "\n",
    "Author: Laura Gutierrez Funderburk\n",
    "\n",
    "Created on: April 18 2018\n",
    "\n",
    "Last modified on: April 20 2018\n",
    "\n",
    "### Abstract\n",
    "\n",
    "In this notebook, we will use  list comprehensions to store and parse data. We will build from the previous exercise. "
   ]
  },
  {
   "cell_type": "markdown",
   "metadata": {},
   "source": [
    "### From for loops to list comprehension\n",
    "\n",
    "Suppose we are given an array. We would like to apply a function function_on_array that acts on each element of the array. Using basic for loop syntax we would do something along the lines of\n",
    "\n",
    "array = [...]\n",
    "\n",
    "for i in range(a):\n",
    "\n",
    "    function_on_array(array[i])\n",
    "    \n",
    "print(array)\n",
    "\n",
    "When handling hundreds of entries this becomes time consuming. We can accomplish the same result in a more efficient way as follows:\n",
    "\n",
    "array =  [function_on_array(array[i]) for i in range(a)]\n",
    "\n",
    "\n",
    "Let us take a couple of simple examples. We will then move on to our file. "
   ]
  },
  {
   "cell_type": "code",
   "execution_count": null,
   "metadata": {},
   "outputs": [],
   "source": [
    "# Simple example\n",
    "# Suppose we want to create an array with numbers from 1 to 10\n",
    "number_arr = []\n",
    "for i in range(10):\n",
    "    number_arr.append(i+1)    \n",
    "print(\"For loop approach\")\n",
    "print(number_arr)\n",
    "\n",
    "print(\"\\n\")\n",
    "\n",
    "# We can accomplish the same result using comprehension lists\n",
    "number_array = [i+1 for i in range(10)]\n",
    "print(\"Comprehension list approach\")\n",
    "print(number_array)"
   ]
  },
  {
   "cell_type": "markdown",
   "metadata": {},
   "source": [
    "### Comprehension lists with an if statement\n",
    "\n",
    "Now that we have mastered the basic syntax of comprehension lists, let us dial things up one more level. This time we will add an if statement. \n",
    "\n",
    "Let us take our celestials array from last exercise and suppose, as before, we are interested in the elements which are planets. We can then skip the cumbersome for loop as follows."
   ]
  },
  {
   "cell_type": "code",
   "execution_count": null,
   "metadata": {},
   "outputs": [],
   "source": [
    "# Take an existing array\n",
    "celestials = ['Moon','Sun','Neptune','Mars','Jupiter','Venus']\n",
    "\n",
    "# Time for comprehension lists\n",
    "planets = [item for item in celestials if item != \"Moon\" and item != \"Sun\" ]\n",
    "\n",
    "# Print\n",
    "print(\"Our celestials array is \" + str(celestials))\n",
    "print(\"\\n\")\n",
    "print(\"The planets in our array are \" + str(planets))"
   ]
  },
  {
   "cell_type": "markdown",
   "metadata": {},
   "source": [
    "### Comprehension Lists and File Handling\n",
    "\n",
    "Now that we are more used to using comprehension lists, we will use them to our advantage when handling multiple files. \n",
    "\n",
    "In the github page, access the /DATA directory. In there you will find a number of files.\n",
    "\n",
    "Suppose we are given access to the file data.csv, and we are requested to extract for each row a pair of the form 'MZ22503562', 'MZ22507874'. \n",
    "\n",
    "We can use comprehension lists to read and store file content into a table for later parsing. "
   ]
  },
  {
   "cell_type": "code",
   "execution_count": null,
   "metadata": {
    "collapsed": true
   },
   "outputs": [],
   "source": [
    "# Import glob library to deal with files\n",
    "import glob\n",
    "\n",
    "%run -i functions.py"
   ]
  },
  {
   "cell_type": "code",
   "execution_count": null,
   "metadata": {},
   "outputs": [],
   "source": [
    "# Store directory location into variable\n",
    "data_directory = \"./DATA/\"\n",
    "\n",
    "# access all file names that end with a csv\n",
    "data_files = glob.glob(data_directory + \"*.csv\")\n",
    "print(data_files)\n",
    "# in our particular case, we are interested in the first entry in this array\n",
    "data = data_files[0]"
   ]
  },
  {
   "cell_type": "code",
   "execution_count": null,
   "metadata": {},
   "outputs": [],
   "source": [
    "# Open the file and save all entries within data.csv into a table\n",
    "# Notice we are doing the same thing as in exercise 0, but using comprehension lists instead\n",
    "with open(data,'r') as f:\n",
    "    lines = [line for line in f]\n",
    "f.close()\n",
    "\n",
    "print(\"We print the first 5 entries in our array lines.\\n\")\n",
    "print(lines[0:5])"
   ]
  },
  {
   "cell_type": "markdown",
   "metadata": {},
   "source": [
    "Say we are now interested in parsing the information. We notice each row is a string whose entries are separated by commas. We can use the split() method to separate the information into pieces. "
   ]
  },
  {
   "cell_type": "code",
   "execution_count": null,
   "metadata": {},
   "outputs": [],
   "source": [
    "# Apply split() method on first row to disect it into little pieces\n",
    "r_one = lines[1].split(\",\")\n",
    "print(r_one)"
   ]
  },
  {
   "cell_type": "markdown",
   "metadata": {},
   "source": [
    "If we are interested in only the first and fourth element in our array, we would then go ahead and compute"
   ]
  },
  {
   "cell_type": "code",
   "execution_count": null,
   "metadata": {},
   "outputs": [],
   "source": [
    "print(r_one[0],r_one[3])"
   ]
  },
  {
   "cell_type": "markdown",
   "metadata": {},
   "source": [
    "### Your turn\n",
    "\n",
    "Complete the following cells to extend what we have been working on to all the rows in our file data.csv"
   ]
  },
  {
   "cell_type": "code",
   "execution_count": null,
   "metadata": {},
   "outputs": [],
   "source": [
    "# Number of elements in the lines array. Apply the len() function on the lines array.\n",
    "size_of_lines = len(_ _ _)\n",
    "\n",
    "\n",
    "# Using a comprehension list, apply the split() method on each entry of the lines array\n",
    "# How many times should we iterate?\n",
    "\n",
    "tabulate_lines = [_ _ _.split(\",\") for i in range(_ _ _)]\n",
    "\n",
    "# Now that you obtained an array whose entries are arrays with information separated by commas,\n",
    "# your job is to extract from each row the firs and the fourth element from tabulate_lines.\n",
    "# Complete the comprehension list below and indicate an appropriate range\n",
    "\n",
    "pair  = [[_ _ _, tabulate_lines[i][3]] for i _ _ _ ]\n",
    "\n",
    "# Print the pair array\n",
    "print(_ _ _)\n",
    "\n",
    "# Apply the function remove_repetitions() on the pair array to ensure we do not have repetitions\n",
    "unique_pairs = remove_repetitions(pair)\n",
    "\n",
    "# Print the unique_pairs array\n",
    "print(unique_pairs)"
   ]
  },
  {
   "cell_type": "markdown",
   "metadata": {},
   "source": [
    "### Review \n",
    "\n",
    "In this exercise, we made extensive use of comprehension lists to read, store and disect information within a data file. "
   ]
  },
  {
   "cell_type": "code",
   "execution_count": null,
   "metadata": {},
   "outputs": [],
   "source": [
    "# Read file and store contents into lines array. Comprehension list version\n",
    "with open(data,'r') as f:\n",
    "    lines = [line for line in f]\n",
    "f.close()\n",
    "\n",
    "# Number of elements in the lines array\n",
    "size_of_lines = len(lines)\n",
    "\n",
    "# Use comprehension list to split array elements into subarrays\n",
    "tabulate_lines = [lines[i].split(\",\") for i in range(size_of_lines)]\n",
    "\n",
    "# Use comprehension lists again to extract the first and fourth pieces of information from each row\n",
    "pair = [[tabulate_lines[i][0],tabulate_lines[i][3]] for i in range(1,size_of_lines)]\n",
    "\n",
    "# Apply remove_repetitions on the array pair to remove any repeated entries\n",
    "unique_pairs = remove_repetitions(pair)\n",
    "print(unique_pairs)"
   ]
  },
  {
   "cell_type": "code",
   "execution_count": null,
   "metadata": {
    "collapsed": true
   },
   "outputs": [],
   "source": []
  }
 ],
 "metadata": {
  "kernelspec": {
   "display_name": "Python 3",
   "language": "python",
   "name": "python3"
  },
  "language_info": {
   "codemirror_mode": {
    "name": "ipython",
    "version": 3
   },
   "file_extension": ".py",
   "mimetype": "text/x-python",
   "name": "python",
   "nbconvert_exporter": "python",
   "pygments_lexer": "ipython3",
   "version": "3.6.1"
  }
 },
 "nbformat": 4,
 "nbformat_minor": 2
}
