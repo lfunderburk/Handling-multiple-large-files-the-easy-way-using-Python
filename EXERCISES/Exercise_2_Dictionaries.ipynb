{
 "cells": [
  {
   "cell_type": "markdown",
   "metadata": {},
   "source": [
    "# Exercise 2: Dictionaries\n",
    "\n",
    "Author: Laura Gutierrez Funderburk\n",
    "\n",
    "Created on: April 18 2018\n",
    "\n",
    "Last modified on: April 21 2018\n",
    " \n",
    "### Abstract\n",
    "\n",
    "In this notebook, we will walk through examples involving dictionaries. \n",
    "\n",
    "I have created a script, called functions.py, containing a number of functions that will be used. Whereas we will eventually practice going from Jupyter to a .py script, for now workshop participants are encouraged to use the functions available and to place the focus solely on dictionaries. \n",
    "\n",
    "### About Python dictionaries\n",
    "\n",
    "Here you can find basic syntax for dictionaries. We identify *keys* and *doors*. We can then define a dictionary as follows:\n",
    "\n",
    "My_dictionary = {keys : doors}\n",
    "\n",
    "What is the deal here? Well, if we are interested in accessing a value stored under a particular key, we simply call\n",
    "\n",
    "My_dictionary[key]\n",
    "\n",
    "and we will obtain only the information associated to it. \n",
    "\n",
    "But that is enough chatting. Let us dive into coding!"
   ]
  },
  {
   "cell_type": "markdown",
   "metadata": {},
   "source": [
    "### Warm up Exercise\n",
    "\n",
    "Suppose we have as many people as celestial bodies in our celestials array, and suppose each person gets to go to exactly one one them. Suppose, furthermore, they happen to go in the same order of apperance as in our celestials array. If we ever want to check who went were, a dictionary would do the trick!"
   ]
  },
  {
   "cell_type": "code",
   "execution_count": null,
   "metadata": {},
   "outputs": [],
   "source": [
    "# Let us bring back our celestials array\n",
    "celestials = ['Moon','Sun','Neptune','Mars','Jupiter','Venus']\n",
    "# Define space_travellers where each entry is a person\n",
    "space_travellers = [\"James\",\"Sonia\",\"Vero\",\"Tom\",\"Lily\",\"Manny\"]\n",
    "\n",
    "# Dictionary\n",
    "space_dictionary = {space_travellers[i]: celestials[i] for i in range(6)}\n",
    "print(space_dictionary)"
   ]
  },
  {
   "cell_type": "markdown",
   "metadata": {},
   "source": [
    "Suppose we do not really need to know where everyone went, but feel rather curious about Lily in particular. We simply call our space_dictionary as follows. "
   ]
  },
  {
   "cell_type": "code",
   "execution_count": null,
   "metadata": {},
   "outputs": [],
   "source": [
    "print(space_dictionary[\"Lily\"])"
   ]
  },
  {
   "cell_type": "markdown",
   "metadata": {},
   "source": [
    "As it turns out, dictionaries are a powerful tool in extracting specific information within files. We will now move on to more complex examples.\n",
    "\n",
    "### Dictionaries and files\n",
    "\n",
    "Let us add a few more files into the picture. Now that we are a bit more comfortable with comprehension lists and extracting particular data from a file, let us know use such data as keys. "
   ]
  },
  {
   "cell_type": "code",
   "execution_count": null,
   "metadata": {
    "collapsed": true
   },
   "outputs": [],
   "source": [
    "# For now, please just run this command. We will explore it in more detail in later exercises. \n",
    "%run -i functions.py"
   ]
  },
  {
   "cell_type": "code",
   "execution_count": null,
   "metadata": {},
   "outputs": [],
   "source": [
    "# Store directory location into variable\n",
    "data_directory = \"./DATA/\"\n",
    "# We add one more character to our list of files\n",
    "ALL_GENE_FILE_DIRECTORY = \"./DATA/ALL_GENE_file\""
   ]
  },
  {
   "cell_type": "code",
   "execution_count": null,
   "metadata": {},
   "outputs": [],
   "source": [
    "# As before, we access only the files ending in .csv and store its contents into a table\n",
    "data = store_data_in_table(data_directory,\"csv\")\n",
    "# Parsing\n",
    "disected_data = disect_table(data)\n",
    "#Parsing\n",
    "fam_pair = get_families(disected_data)"
   ]
  },
  {
   "cell_type": "markdown",
   "metadata": {},
   "source": [
    "We can use dictionaries for a number of purposes. \n",
    "\n",
    "For example, the elements in our array fam_pair act as identifiers. With the help of the pre-defined function output_entries_in_ALL_GENE_FILE, we can match an identifier with its appropriate value. "
   ]
  },
  {
   "cell_type": "code",
   "execution_count": null,
   "metadata": {},
   "outputs": [],
   "source": [
    "# DICTIONARIES IN ACTION!!\n",
    "# Use a comprehension list to get only the first member in the pairs we generated. \n",
    "# All these entries were found under CLUSTER_A in the data.csv file\n",
    "CL_A_entries = [item[0] for item in fam_pair]\n",
    "\n",
    "# Get size of CL_A_entries array\n",
    "size_A = len(CL_A_entries)\n",
    "\n",
    "# Define dictionary\n",
    "CL_A_dictionary = {CL_A_entries[i]:output_entries_in_ALL_GENE_FILE(CL_A_entries[i]) for i in range(size_A)}"
   ]
  },
  {
   "cell_type": "code",
   "execution_count": null,
   "metadata": {},
   "outputs": [],
   "source": [
    "# Print specific info using keys\n",
    "print(CL_A_dictionary[\"MZ22526841\"])\n",
    "print(\"\\n\")\n",
    "print(CL_A_dictionary['MZ22522073'])"
   ]
  },
  {
   "cell_type": "markdown",
   "metadata": {},
   "source": [
    "We can also use dictionaries to open different files. \n",
    "\n",
    "Suppose I need to use the information in the strings above to extract information from over 16 files. I can manipulate the information on the string to use the appropriate key word to open the file I am interested in. "
   ]
  },
  {
   "cell_type": "code",
   "execution_count": null,
   "metadata": {},
   "outputs": [],
   "source": [
    "#Define dictionary\n",
    "file_dictionary = {'atroparvus':'atroparvus-EBRO_SCAFFOLDS_AatrE1.fa',\n",
    "                  'arabiensis':'arabiensis-Dongola_SCAFFOLDS_AaraD1.fa',\n",
    "                  'culicifacies':'culicifacies-A37_SCAFFOLDS_AculA1.fa'}\n",
    "# Key words\n",
    "key_words= {'atroparvus', 'arabiensis', 'culicifacies'}"
   ]
  },
  {
   "cell_type": "code",
   "execution_count": null,
   "metadata": {},
   "outputs": [],
   "source": [
    "for key in key_words:\n",
    "    print(file_dictionary[key])"
   ]
  },
  {
   "cell_type": "markdown",
   "metadata": {},
   "source": [
    "### Your turn\n",
    "\n",
    "Now that you are more comfortable with comprehension lists, it is your turn to extract only those identifiers found in the CLUSTER_B column in the data.csv file. \n",
    "\n",
    "Recall that we obtained identifiers in the CLUSTER_A column by running the command:\n",
    "\n",
    "CL_A_entries = [item[0] for item in fam_pair]"
   ]
  },
  {
   "cell_type": "code",
   "execution_count": null,
   "metadata": {
    "collapsed": true
   },
   "outputs": [],
   "source": [
    "#Hint:\n",
    "for item in fam_pair:\n",
    "    print(item[1])"
   ]
  },
  {
   "cell_type": "code",
   "execution_count": null,
   "metadata": {
    "collapsed": true
   },
   "outputs": [],
   "source": [
    "# Define CL_B_entries \n",
    "CL_B_entries  = [_ _ _]"
   ]
  },
  {
   "cell_type": "markdown",
   "metadata": {},
   "source": [
    "Get the total number of entries in CL_B_entries"
   ]
  },
  {
   "cell_type": "code",
   "execution_count": null,
   "metadata": {},
   "outputs": [],
   "source": [
    "# Size of CL_B_entries\n",
    "size_B = len(_ _ _)"
   ]
  },
  {
   "cell_type": "markdown",
   "metadata": {},
   "source": [
    "Define a dictionary CL_B_dictionary where:\n",
    "\n",
    "keys := elements in CL_B_entries \n",
    "\n",
    "values :=  values obtained when running the function output_entries_in_ALL_GENE_FILE(CL_B_entries[i])\n"
   ]
  },
  {
   "cell_type": "code",
   "execution_count": null,
   "metadata": {
    "collapsed": true
   },
   "outputs": [],
   "source": [
    "CL_B_dictionary = {_ _ _ : _ _ _ for i in range(size_B)}"
   ]
  },
  {
   "cell_type": "markdown",
   "metadata": {},
   "source": [
    "Access the values associated with the keys MZ22526881, MZ22514750. Print their content. "
   ]
  },
  {
   "cell_type": "code",
   "execution_count": null,
   "metadata": {
    "collapsed": true
   },
   "outputs": [],
   "source": [
    "# Access specific values within our CL_B_dictionary\n",
    "print(CL_B_dictionary[_ _ _])\n",
    "print(\"\\n\")\n",
    "print(_ _ _)"
   ]
  },
  {
   "cell_type": "markdown",
   "metadata": {},
   "source": [
    "Expand the file_dictionary and the keywords by adding, respectively, the following files and keys:\n",
    "\n",
    "Files: 'albimanus-STECLA_SCAFFOLDS_AalbS1.fa', 'darlingi-Coari_SCAFFOLDS_AdarC2.fa'\n",
    "\n",
    "Keys: 'albimanus', 'darlingi'\n",
    "\n",
    "Then complete the following foor loop. "
   ]
  },
  {
   "cell_type": "code",
   "execution_count": null,
   "metadata": {
    "collapsed": true
   },
   "outputs": [],
   "source": [
    "# Expand dictionary\n",
    "file_dictionary = {'atroparvus':'atroparvus-EBRO_SCAFFOLDS_AatrE1.fa',\n",
    "                  'arabiensis':'arabiensis-Dongola_SCAFFOLDS_AaraD1.fa',\n",
    "                  'culicifacies':'culicifacies-A37_SCAFFOLDS_AculA1.fa',\n",
    "                  '_ _ _',\n",
    "                  '_ _ _'}\n",
    "# Expand key words\n",
    "key_words= {'atroparvus', 'arabiensis', 'culicifacies','_ _ _', '_ _ _'}\n",
    "\n",
    "# Complete value in for loop\n",
    "for _ _ _ in key_words:\n",
    "    print(file_dictionary[key])"
   ]
  },
  {
   "cell_type": "markdown",
   "metadata": {},
   "source": [
    "### Review\n",
    "\n",
    "In this exercise, we learned basic use of dictionaries. \n",
    "\n",
    "We then explored how to use dictionaries to extract and organize data as we need. \n",
    "\n",
    "Examples include using data within data files as identifiers, but also as useful tools when opening files. "
   ]
  }
 ],
 "metadata": {
  "kernelspec": {
   "display_name": "Python 3",
   "language": "python",
   "name": "python3"
  },
  "language_info": {
   "codemirror_mode": {
    "name": "ipython",
    "version": 3
   },
   "file_extension": ".py",
   "mimetype": "text/x-python",
   "name": "python",
   "nbconvert_exporter": "python",
   "pygments_lexer": "ipython3",
   "version": "3.6.1"
  }
 },
 "nbformat": 4,
 "nbformat_minor": 2
}
