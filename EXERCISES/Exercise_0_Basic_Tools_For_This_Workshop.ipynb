{
 "cells": [
  {
   "cell_type": "markdown",
   "metadata": {},
   "source": [
    "# Exercise 0:  Python Use Review\n",
    "\n",
    "Author: Laura Gutierrez Funderburk\n",
    "\n",
    "Created on: April 18 2018\n",
    "\n",
    "Last modified on: April 20 2018\n",
    "\n",
    "### Abstract\n",
    "\n",
    "This notebook is divided into three main areas:\n",
    "\n",
    "1) Importing libraries\n",
    "\n",
    "2) Refresh your memory of for and if statements on Python 3.6\n",
    "\n",
    "3) Reading files from a given directory and storing the content into a table\n",
    "\n"
   ]
  },
  {
   "cell_type": "markdown",
   "metadata": {},
   "source": [
    "### Part I: Importing libraries\n",
    "\n",
    "This section is straightforward, we will simply use the <span style=\"color:green\">**import**</span> command. "
   ]
  },
  {
   "cell_type": "code",
   "execution_count": null,
   "metadata": {
    "collapsed": true
   },
   "outputs": [],
   "source": [
    "# We will import the glob package as we want a way to access files within our directory. \n",
    "# The package glob does a great job at it. \n",
    "import glob"
   ]
  },
  {
   "cell_type": "markdown",
   "metadata": {},
   "source": [
    "### Part II: For and if statements\n",
    "\n",
    "Although I assume knowledge of Python for, while and if statements, I will provide a few examples that we will use as we build up our tool kit in the next exercises. \n",
    "\n",
    "Suppose we want to create an array and add elements iteratively, then we can do so as follows. "
   ]
  },
  {
   "cell_type": "code",
   "execution_count": null,
   "metadata": {},
   "outputs": [],
   "source": [
    "# Take an existing array\n",
    "celestials = ['Moon','Sun','Neptune','Mars','Jupiter','Venus']\n",
    "\n",
    "# Create empty array\n",
    "planets = []\n",
    "\n",
    "# Imagine we want to select only those elements in this array that are planets\n",
    "# By inspection we identify only Moon and Sun do not belong to this category\n",
    "# We will iterate over each item in the for loop\n",
    "for item in celestials:\n",
    "    # If the item is either Moon or Sun, we skip\n",
    "    if item ==\"Moon\" or item==\"Sun\":\n",
    "        continue\n",
    "    # Otherwise, we will add the item to our empty array\n",
    "    else:\n",
    "        planets.append(item)\n",
    "\n",
    "# Print original array\n",
    "print(\"Our celestial array contains \" + str(celestials))\n",
    "print(\"\\n\")\n",
    "# Print array with planets \n",
    "print(\"The planets in our celestial array are \" + str(planets))"
   ]
  },
  {
   "cell_type": "markdown",
   "metadata": {},
   "source": [
    "### Part III: Reading files & storing the content into a table\n",
    "\n",
    "We will now use a very basic for loop to read and store contents of a file inside a table. \n",
    "\n",
    "----> STOP AND THINK: WHY DO WE WANT TO DO THIS?\n",
    "\n",
    "Opening and reading files is time consuming. If we open and read the file for each entry, the computational time will compound unnecesarily. By storing the content of our file in a table, we ensure to read the file once and from there work with the contents as needed. "
   ]
  },
  {
   "cell_type": "code",
   "execution_count": null,
   "metadata": {},
   "outputs": [],
   "source": [
    "# Access all the files in the directory /DATA\n",
    "data_directory = \"./DATA/\"\n",
    "\n",
    "# Use the glob package to store file names in an array\n",
    "data_files = glob.glob(data_directory + \"*.csv\")\n",
    "\n",
    "# Access data.csv\n",
    "data = data_files[0]"
   ]
  },
  {
   "cell_type": "code",
   "execution_count": null,
   "metadata": {
    "collapsed": true
   },
   "outputs": [],
   "source": [
    "# Create an empty array where we will store the content of our file. \n",
    "all_the_data = []\n",
    "\n",
    "# We open the file data with the with open() command, and variable data, we use 'r' to specify that we are reading\n",
    "# the file. \n",
    "with open(data,'r') as f:\n",
    "    # We use a for loop to iteratively append the content of the file into a table\n",
    "    for line in f:\n",
    "        all_the_data.append(line)\n",
    "        \n",
    "# It is a good practice to close files whenever we are done reading or writing on them!!!\n",
    "f.close()"
   ]
  },
  {
   "cell_type": "markdown",
   "metadata": {},
   "source": [
    "Let us print the first 5 elements in our table all_the_data"
   ]
  },
  {
   "cell_type": "code",
   "execution_count": null,
   "metadata": {},
   "outputs": [],
   "source": [
    "print(all_the_data[0:5])"
   ]
  },
  {
   "cell_type": "markdown",
   "metadata": {},
   "source": [
    "We can use the .split() method to disect and work with this data. For instance, we notice that each column is separated by commas ',' and in each column all pieces of information are separated by colons ':'. We can then use the .split() method to create an array for each entry so that we can manipulate the content as we need. \n",
    "\n",
    "Let us take the second row and split it into its corresponding columns. "
   ]
  },
  {
   "cell_type": "code",
   "execution_count": null,
   "metadata": {},
   "outputs": [],
   "source": [
    "second_row = all_the_data[1].split(\",\")\n",
    "print(second_row)"
   ]
  },
  {
   "cell_type": "markdown",
   "metadata": {},
   "source": [
    "Say we are interested in extracting the names MZ22523024 and MZ22514750 from each entry in our array second_row. We can apply the split() method once more as follows:"
   ]
  },
  {
   "cell_type": "code",
   "execution_count": null,
   "metadata": {},
   "outputs": [],
   "source": [
    "specific_info_one = second_row[0].split(\":\")\n",
    "specific_info_two =  second_row[3].split(\":\")\n",
    "print(specific_info_one[0], specific_info_two[0])"
   ]
  },
  {
   "cell_type": "markdown",
   "metadata": {},
   "source": [
    "### Your turn:\n",
    "\n",
    "#### Exercise 0.1 \n",
    "Complete the following for loop whose purpose is to apply the split method to get an array whose elements are arrays of size 2, each containing the rows of our data.csv file. \n",
    " \n",
    "Print the first 5 elements in the array columns_in_data discarding the Cluster_A and Cluster_B columns. "
   ]
  },
  {
   "cell_type": "code",
   "execution_count": null,
   "metadata": {},
   "outputs": [],
   "source": [
    "# Exercise\n",
    "# We use the len() function to get length of array all_the_data\n",
    "size_of_all_the_data = len(_ _ _)\n",
    "\n",
    "# We define an empty array\n",
    "columns_in_data = []\n",
    "\n",
    "# We run from 1 to size_of_all_the_data (recall we do not want the entries Cluster_A, Cluster_B\n",
    "for i in range(1,_ _ _):\n",
    "    \n",
    "# Append the entries in our array columns_in_data\n",
    "    columns_in_data.append(all_the_data[i].split(\"_ _ _\"))\n",
    "    \n",
    "# Print the first 5 entries in column_in_data\n",
    "print(_ _ _[0:5])"
   ]
  },
  {
   "cell_type": "markdown",
   "metadata": {},
   "source": [
    "#### Exercise 0.2\n",
    "\n",
    "Suppose we are interested in extracting very specific information from each row (discaring the rows Cluster_A, ClusterB). \n",
    "\n",
    "For example, we know that the two elements in the first row are:\n",
    "\n",
    "'MZ22523024:ACUA002041:Anopheles_culicifacies.KI425380:7891-8301:+''MZ22514750:AGAP012534:Anopheles_gambiae.UNKN:11990889-11991197:\n",
    "\n",
    "and suppose we are only interested in getting, for each row, the pair [MZ22523024,MZ22514750].\n",
    "\n",
    "By applying the split.() method, we can disect and extract the data we want. \n",
    "\n",
    "Follow the exercise below and complete where necessary. "
   ]
  },
  {
   "cell_type": "code",
   "execution_count": null,
   "metadata": {
    "collapsed": true
   },
   "outputs": [],
   "source": [
    "# Exercise\n",
    "# We use the len() function to get length of array columns_in_data\n",
    "size_of_columns_in_data = len(_ _ _)\n",
    "\n",
    "# Define an empty array\n",
    "tabulated_names_cols = []\n",
    "\n",
    "# Run from 0 to size_of_columns_in_data\n",
    "for i in range(_ _ _):\n",
    "    \n",
    "# For each i, split into subarrays separated by : and store only the first entry\n",
    "    tabulated_names_cols.append([columns_in_data[_ _ _][0].split(\":\")[0],columns_in_data[i][3].split(\":\")[0]])\n",
    "    \n",
    "# Print the first 5 entries in tabulated_names_cols\n",
    "print(tabulated_names_cols[_ _ _])"
   ]
  },
  {
   "cell_type": "markdown",
   "metadata": {},
   "source": [
    "### Review\n",
    "\n",
    "In this exercise, we imported the glob library, used it to access file names within our folder, read and stored file content into a table, which we then manipulated using foor loops. \n",
    "\n",
    "The reader will notice an unnecessary number of steps. \n",
    "\n",
    "In the next section, we will make this process much more efficient by using comprehension lists. "
   ]
  },
  {
   "cell_type": "code",
   "execution_count": null,
   "metadata": {},
   "outputs": [],
   "source": [
    "# We will import the glob package as we want a way to access files within our directory. \n",
    "# The package glob does a great job at it. \n",
    "import glob\n",
    "\n",
    "# Access data.csv in the directory /DATA\n",
    "data_directory = \"./DATA/\"\n",
    "data_files = glob.glob(data_directory + \"*.csv\")\n",
    "data = data_files[0]\n",
    "\n",
    "# Create an empty array where we will store the content of our file. \n",
    "all_the_data = []\n",
    "with open(data,'r') as f:\n",
    "    # We use a for loop to iteratively append the content of the file into a table\n",
    "    for line in f:\n",
    "        all_the_data.append(line)\n",
    "f.close()\n",
    "\n",
    "# We use the len() function to get length of array all_the_data\n",
    "size_of_all_the_data = len(all_the_data)\n",
    "\n",
    "# We run from 1 to size_of_all_the_data (recall we do not want the entries Cluster_A, Cluster_B) \n",
    "# that disects each row into an array separated by commas\n",
    "columns_in_data = []\n",
    "for i in range(1,size_of_all_the_data):\n",
    "    columns_in_data.append(all_the_data[i].split(\",\"))\n",
    "\n",
    "print(\"First five rows are: \\n\")\n",
    "print(columns_in_data[0:5])\n",
    "\n",
    "print(\"\\n\")\n",
    "\n",
    "# Define an empty array that stores, for each row, a pair containing the first and fourth entry. \n",
    "tabulated_names_cols = []\n",
    "size_of_columns_in_data = len(columns_in_data)\n",
    "for i in range(size_of_columns_in_data):\n",
    "    tabulated_names_cols.append([columns_in_data[i][0].split(\":\")[0],columns_in_data[i][3].split(\":\")[0]])\n",
    "\n",
    "print(\"First five pairs containing first and fourth entry are: \\n\")    \n",
    "print(tabulated_names_cols[0:5])"
   ]
  }
 ],
 "metadata": {
  "kernelspec": {
   "display_name": "Python 3",
   "language": "python",
   "name": "python3"
  },
  "language_info": {
   "codemirror_mode": {
    "name": "ipython",
    "version": 3
   },
   "file_extension": ".py",
   "mimetype": "text/x-python",
   "name": "python",
   "nbconvert_exporter": "python",
   "pygments_lexer": "ipython3",
   "version": "3.6.1"
  }
 },
 "nbformat": 4,
 "nbformat_minor": 2
}
