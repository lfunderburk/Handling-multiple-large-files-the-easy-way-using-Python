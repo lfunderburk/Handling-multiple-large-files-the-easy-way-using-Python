{
 "cells": [
  {
   "cell_type": "markdown",
   "metadata": {},
   "source": [
    "# Exercise 0: Basic Python Use Review\n",
    "\n",
    "Author: Laura Gutierrez Funderburk\n",
    "\n",
    "Created on: April 18 2018\n",
    "\n",
    "Last modified on: \n",
    "\n",
    "### Abstract\n",
    "\n",
    "This notebook is divided into three main areas:\n",
    "\n",
    "1) Importing libraries\n",
    "\n",
    "2) Refresh your memory of for, while and if statements on Python 3.6\n",
    "\n",
    "3) Reading files from a given directory and storing the content into a table\n",
    "\n"
   ]
  },
  {
   "cell_type": "markdown",
   "metadata": {},
   "source": [
    "### Part I: Importing libraries\n",
    "\n",
    "This section is straightforward, we will simply use the <span style=\"color:green\">**import**</span> command. I will explain why we are interested in these particular packages. "
   ]
  },
  {
   "cell_type": "code",
   "execution_count": 3,
   "metadata": {
    "collapsed": true
   },
   "outputs": [],
   "source": [
    "import glob\n",
    "import pandas as pd\n",
    "from Bio import SeqIO"
   ]
  },
  {
   "cell_type": "markdown",
   "metadata": {},
   "source": [
    "### Part II: For, while and if statements\n",
    "\n",
    "We can access items via for loops in different ways. For instance, suppose I define an array called celestials as below. I can then access its elements in two different ways. "
   ]
  },
  {
   "cell_type": "code",
   "execution_count": 12,
   "metadata": {},
   "outputs": [
    {
     "name": "stdout",
     "output_type": "stream",
     "text": [
      "Moon\n",
      "Sun\n",
      "Neptune\n",
      "Mars\n",
      "Jupiter\n",
      "Venus\n",
      " \n",
      "Moon\n",
      "Sun\n",
      "Neptune\n",
      "Mars\n",
      "Jupiter\n",
      "Venus\n"
     ]
    }
   ],
   "source": [
    "# BASIC FOR LOOP USAGE\n",
    "celestials = ['Moon','Sun','Neptune','Mars','Jupiter','Venus']\n",
    "for item in celestials:\n",
    "    print(item)\n",
    "\n",
    "print(\" \")\n",
    "size_of_celestials = len(celestials)\n",
    "for i in range(size_of_celestials):\n",
    "    print(celestials[i])"
   ]
  },
  {
   "cell_type": "code",
   "execution_count": 15,
   "metadata": {},
   "outputs": [
    {
     "name": "stdout",
     "output_type": "stream",
     "text": [
      "Moon\n",
      "Sun\n",
      "Neptune\n",
      "Mars\n",
      "Jupiter\n",
      "Venus\n"
     ]
    }
   ],
   "source": [
    "# BASIC WHILE LOOP USAGE\n",
    "var = 0\n",
    "while var < size_of_celestials:\n",
    "    print(celestials[var])\n",
    "    var += 1"
   ]
  },
  {
   "cell_type": "code",
   "execution_count": 17,
   "metadata": {},
   "outputs": [
    {
     "name": "stdout",
     "output_type": "stream",
     "text": [
      "Moon\n",
      "Sun\n",
      "Mars\n"
     ]
    }
   ],
   "source": [
    "# BASIC IF USAGE\n",
    "for i in range(size_of_celestials):\n",
    "    if len(celestials[i]) <=4:\n",
    "        print(celestials[i])"
   ]
  },
  {
   "cell_type": "markdown",
   "metadata": {},
   "source": [
    "### Part III: Reading and storing files into tables"
   ]
  },
  {
   "cell_type": "code",
   "execution_count": null,
   "metadata": {
    "collapsed": true
   },
   "outputs": [],
   "source": []
  },
  {
   "cell_type": "markdown",
   "metadata": {},
   "source": [
    "### Your turn:\n",
    "\n",
    "Using what you know of Python:\n",
    "\n",
    "1)  Import the matplot package. \n",
    "\n",
    "2) Print the integers from 1 to 10. Next print only those integers which are even. \n",
    "\n",
    "3) Read the file ... and store it into a table called \"my_file\"\n"
   ]
  },
  {
   "cell_type": "code",
   "execution_count": null,
   "metadata": {
    "collapsed": true
   },
   "outputs": [],
   "source": []
  }
 ],
 "metadata": {
  "kernelspec": {
   "display_name": "Python 3",
   "language": "python",
   "name": "python3"
  },
  "language_info": {
   "codemirror_mode": {
    "name": "ipython",
    "version": 3
   },
   "file_extension": ".py",
   "mimetype": "text/x-python",
   "name": "python",
   "nbconvert_exporter": "python",
   "pygments_lexer": "ipython3",
   "version": "3.6.1"
  }
 },
 "nbformat": 4,
 "nbformat_minor": 2
}
