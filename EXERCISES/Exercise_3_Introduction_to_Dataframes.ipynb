{
 "cells": [
  {
   "cell_type": "markdown",
   "metadata": {},
   "source": [
    "# Exercise 3: Introduction to Dataframes\n",
    "\n",
    "Author: Laura Gutierrez Funderburk\n",
    "\n",
    "Created on: April 21 2018\n",
    "\n",
    "Last modified on: April 21 2018\n",
    " \n",
    "### Abstract\n",
    "\n",
    "In this notebook I will introduce dataframes and run through a few examples. Please note this only an introductory exercise. Participants are welome to learn more about it. \n",
    "\n",
    "My goal in this exercise is to provide the workshop participants with a taste of what dataframes can do and to provide an opportunity to explore and learn outside this workshop. \n",
    "\n",
    "### About Python dataframes\n",
    "\n",
    "Dataframes can be called via the Pandas library. Python dataframes are two-dimensional labelled data structures whose columns may or may not contain different data types. Columns and rows are indexed and can be labelled. \n",
    "\n",
    "Here are a few resources:\n",
    "\n",
    "<a href=\"https://www.datacamp.com/community/tutorials/pandas-tutorial-dataframe-python\" target=\"_blank\">DataCamp.com</a>\n",
    "\n",
    "<a href=\"https://pandas.pydata.org/pandas-docs/stable/dsintro.html\" target=\"_blank\">PyData.org</a>\n",
    "\n",
    "This is like dialling up what we have been learning so far by using comprehension lists and dictionaries, as dataframes can be thought of as dictionary-based <a href=\"https://docs.scipy.org/doc/numpy/reference/generated/numpy.array.html\" target=\"_blank\">numpy arrays</a> $^{[1]}$.\n",
    "\n",
    "$^{[1]}$ A numpy array is an array that can hold different data types: float, int, str, arrays,..."
   ]
  },
  {
   "cell_type": "markdown",
   "metadata": {},
   "source": [
    "### Warm up Examples\n",
    "\n",
    "We will start by taking small arrays and defining dataframes. We will use pandas function read_csv to read from out data.csv file and, with the help of a few functions I have defined, I will showcase how powerful they can be in conjunction with dictionaries and comprehension lists when dealing with output that looks nothing like a table. "
   ]
  },
  {
   "cell_type": "code",
   "execution_count": 1,
   "metadata": {},
   "outputs": [],
   "source": [
    "# We begin by importing pandas library\n",
    "import pandas as pd"
   ]
  },
  {
   "cell_type": "code",
   "execution_count": 2,
   "metadata": {},
   "outputs": [],
   "source": [
    "# Let us take our celestials example along with the individuals we sent out into space\n",
    "celestials = ['Moon','Sun','Neptune','Mars','Jupiter','Venus']\n",
    "# Define space_travellers where each entry is a person\n",
    "space_travellers = [\"James\",\"Sonia\",\"Vero\",\"Tom\",\"Lily\",\"Manny\"]"
   ]
  },
  {
   "cell_type": "code",
   "execution_count": 3,
   "metadata": {},
   "outputs": [],
   "source": [
    "# Define dataframes via help of our dictionary notation\n",
    "space_df = pd.DataFrame({\"Celestial Bodies\": celestials, \"Space Travellers\": space_travellers})\n",
    "#print(space_df)"
   ]
  },
  {
   "cell_type": "markdown",
   "metadata": {},
   "source": [
    "We can also use the pandas library to read csv files and extract information as we need. For instance, by printing the data below we no longer need to refer to the original file!\n",
    "\n",
    "We can also isolate specific columns within our file. "
   ]
  },
  {
   "cell_type": "code",
   "execution_count": 4,
   "metadata": {},
   "outputs": [],
   "source": [
    "data = pd.read_csv(\"./DATA/data.csv\")\n",
    "#print(data)"
   ]
  },
  {
   "cell_type": "code",
   "execution_count": 5,
   "metadata": {},
   "outputs": [],
   "source": [
    "# Print specific columns. \n",
    "#print(data.Cluster_A)"
   ]
  },
  {
   "cell_type": "markdown",
   "metadata": {},
   "source": [
    "### Dataframes and plotting our data\n",
    "\n",
    "In the analyze.py script I have predefined a number of functions that deal with our output-.files. As the participants can notice, these are messy files, but with the help of comprehension lists, we can massage and transform into arrays we can later manipulate using dataframes. \n",
    "\n",
    "Below I will define a few functions and showcase how the use of dataframes made the interpretation of output results much easier. \n",
    "\n",
    "Let us recall. In file data.csv we are working with two clusters, Cluster_A and Cluster_B. We identified unique pairs and used those pairs as identifiers to extract information from ALL_GENE_file. After extracting appropriate information, suppose we run open source software which results in a series of output files found in the /OUTPUT_FOR_PLOTTING folder. \n",
    "\n",
    "Our goal is to parse, clean and plot the results found there. \n",
    "\n",
    "In these files, information on cluster element, size along with three scores are found. We encode these scores as Score_A, Score_B and Score_C. We are interested in plotting frequency and comparing if there is any relationship between size of cluster element and the scores we obtained. \n",
    "\n",
    "All scores are floating values between 0 and 1. Scores measure degree of closeness between two alignments. A score of 1 means perfect alignment while a score 0 means the alignments are completely different. "
   ]
  },
  {
   "cell_type": "code",
   "execution_count": 6,
   "metadata": {},
   "outputs": [],
   "source": [
    "# Run analyze.py script\n",
    "%run -i analyze.py"
   ]
  },
  {
   "cell_type": "code",
   "execution_count": 7,
   "metadata": {},
   "outputs": [
    {
     "name": "stdout",
     "output_type": "stream",
     "text": [
      "['./DATA/OUTPUT_FOR_PLOTTING/output-6279660.out', './DATA/OUTPUT_FOR_PLOTTING/output-6279657.out']\n"
     ]
    }
   ],
   "source": [
    "# Indicate where to find all files of the form output-*.out\n",
    "output = \"./DATA/OUTPUT_FOR_PLOTTING/\"\n",
    "# Use glob library to store file names in array\n",
    "all_the_files = glob.glob(output + \"output-*.out\")\n",
    "print(all_the_files[0:2])"
   ]
  },
  {
   "cell_type": "markdown",
   "metadata": {},
   "source": [
    "Participants are welcome to take a look at the analyze.py script. In there you will find a number of functions, most of which rely on comprehension lists. Below I will showcase use of Dataframes to manipulate tabulated data. "
   ]
  },
  {
   "cell_type": "code",
   "execution_count": 8,
   "metadata": {},
   "outputs": [],
   "source": [
    "# We define a function that takes as input a file array, as above and outputs a \"dirty\" dataframe\n",
    "# This function takes as input an array containing all output file names\n",
    "# It outputs a pair of dataframes for clusters A and B\n",
    "def data_to_dataframe(file_array):\n",
    "    \n",
    "    \"\"\"This function will turn all data stored in tables for F1,F2 into dataframes\"\"\"\n",
    "    \n",
    "    # Store indeces for files which are free from error\n",
    "    file_index = select_index(file_array)\n",
    "    \n",
    "    # Turn data in F1 into dataframe, attach column names\n",
    "    A_df = pd.DataFrame([extract_family_length_scores(file_array[i],1) for i in file_index],\\\n",
    "                      columns = [\"Cluster\", \"Size\", \"Score_A\", \"Score_B\",\"Score_C\"])\n",
    "    \n",
    "    # Turn data in F2 into dataframe, attach column names\n",
    "    B_df = pd.DataFrame([extract_family_length_scores(file_array[i],2) for i in file_index],\\\n",
    "                      columns = [\"Cluster\", \"Size\", \"Score_A\", \"Score_B\",\"Score_C\"])\n",
    "    \n",
    "    # Return both datafrains as a 2-tuple\n",
    "    return (A_df,B_df)\n"
   ]
  },
  {
   "cell_type": "code",
   "execution_count": 9,
   "metadata": {},
   "outputs": [],
   "source": [
    "\n",
    "# This function takes as input a dataframe with either info from both clusters A and B and \"cleans\" it\n",
    "# It removes characters such as '\\n' which appear in the first and last columns, and turns all numerical values from str into float\n",
    "def clean_data_frame(data_frame_pair):\n",
    "    \n",
    "    \"\"\"This function cleans our dataframes\"\"\"\n",
    "    # empty array: save cleaned dataframes\n",
    "    clean_cluster_dataframes = []\n",
    "    \n",
    "    # Loop through both family dataframes\n",
    "    for i in range(2):\n",
    "        # dataframe on variable clean_Fi_df\n",
    "        clean_Fi_df = data_frame_pair[i]\n",
    "        # remove '/n' from columns Cline_Score and Family\n",
    "        clean_Fi_df['Score_C'] = clean_Fi_df['Score_C'].map(lambda x: x.rstrip('\\n'))\n",
    "        clean_Fi_df['Cluster'] = clean_Fi_df['Cluster'].map(lambda x: x.rstrip('\\n'))\n",
    "        # Turn Cline, Q and TC scores into float (originally they are coded as strings)\n",
    "        clean_Fi_df['Score_C'] = clean_Fi_df['Score_C'].apply(lambda x:float(x))\n",
    "        clean_Fi_df['Score_A'] = clean_Fi_df['Score_A'].apply(lambda x:float(x))\n",
    "        clean_Fi_df['Score_B'] = clean_Fi_df['Score_B'].apply(lambda x:float(x))\n",
    "        clean_Fi_df['Size'] = clean_Fi_df['Size'].apply(lambda x:int(x))\n",
    "        # store clean_Fi_df into array\n",
    "        clean_cluster_dataframes.append(clean_Fi_df)\n",
    "        \n",
    "    # return array with clean versions of F1, F2\n",
    "    return clean_cluster_dataframes\n"
   ]
  },
  {
   "cell_type": "code",
   "execution_count": 10,
   "metadata": {},
   "outputs": [],
   "source": [
    "# Apply data_to_dataframe on all output files\n",
    "data_pair = data_to_dataframe(all_the_files)\n",
    "\n",
    "# Cleaning data files\n",
    "clean_data_pair = clean_data_frame(data_pair)"
   ]
  },
  {
   "cell_type": "code",
   "execution_count": 15,
   "metadata": {},
   "outputs": [],
   "source": [
    "# Dataframes for both clusters\n",
    "ClusterB_Data_Frame = clean_data_pair[1]"
   ]
  },
  {
   "cell_type": "markdown",
   "metadata": {},
   "source": [
    "Once we have parsed, tabulated and cleaned our data, it is time we take a look at it and plot it. I will select the data found on ClusterB. "
   ]
  },
  {
   "cell_type": "code",
   "execution_count": 12,
   "metadata": {},
   "outputs": [
    {
     "name": "stdout",
     "output_type": "stream",
     "text": [
      "       Cluster  Size  Score_A  Score_B  Score_C\n",
      "0   MZ22502949    16    0.950    0.798    0.842\n",
      "1   MZ22526881    13    0.903    0.583    0.905\n",
      "2   MZ22507135    14    0.777    0.566    0.762\n",
      "3   MZ22513599    14    0.970    0.827    0.941\n",
      "4   MZ22507529    15    0.950    0.831    0.947\n",
      "5   MZ22509191    16    0.970    0.870    0.966\n",
      "6   MZ22502612    18    0.749    0.375    0.620\n",
      "7   MZ22514750    14    0.991    0.959    0.992\n",
      "8   MZ22503731    15    0.988    0.947    0.988\n",
      "9   MZ22518135    13    0.977    0.844    0.975\n",
      "10  MZ22521381    14    0.924    0.743    0.924\n",
      "11  MZ22523467    14    0.961    0.771    0.957\n",
      "12  MZ22519193    13    0.978    0.877    0.978\n",
      "13  MZ22503867    15    0.947    0.781    0.934\n",
      "14  MZ22515097    15    0.997    0.995    0.998\n",
      "15  MZ22509506    13    0.958    0.833    0.901\n",
      "16  MZ22507380    17    0.791    0.423    0.770\n",
      "17  MZ22515611    13    1.000    1.000    1.000\n",
      "18  MZ22506271    13    0.827    0.573    0.808\n",
      "19  MZ22509079    15    0.884    0.613    0.884\n",
      "20  MZ22501769    15    0.986    0.920    0.986\n",
      "21  MZ22513314    14    0.996    0.979    0.996\n",
      "22  MZ22503849    14    0.958    0.905    0.950\n",
      "23  MZ22502318    16    0.942    0.808    0.873\n",
      "24  MZ22509401    15    0.951    0.829    0.952\n"
     ]
    }
   ],
   "source": [
    "print(ClusterB_Data_Frame)"
   ]
  },
  {
   "cell_type": "markdown",
   "metadata": {},
   "source": [
    "We are now ready to plot the distribution of each score. "
   ]
  },
  {
   "cell_type": "code",
   "execution_count": 13,
   "metadata": {},
   "outputs": [
    {
     "data": {
      "image/png": "[encoded data removed]",
      "text/plain": [
       "<matplotlib.figure.Figure at 0x7fc9128dd240>"
      ]
     },
     "metadata": {},
     "output_type": "display_data"
    }
   ],
   "source": [
    "plot_frequency(ClusterB_Data_Frame,\"B\")"
   ]
  },
  {
   "cell_type": "markdown",
   "metadata": {},
   "source": [
    "#### Remarks\n",
    "\n",
    "We see similarities between Score_C and Score_A in terms of the distribution. However Score_B seems to place alignments in different ranges. \n",
    "\n",
    "\n",
    "Let us next see if we can find any interesting patterns between size of cluster element and scores. "
   ]
  },
  {
   "cell_type": "code",
   "execution_count": 14,
   "metadata": {},
   "outputs": [
    {
     "data": {
      "image/png": "[encoded data removed]",
      "text/plain": [
       "<matplotlib.figure.Figure at 0x7fc9128f0550>"
      ]
     },
     "metadata": {},
     "output_type": "display_data"
    }
   ],
   "source": [
    "plot_number_seq_vs_scores(ClusterB_Data_Frame,\"B\")"
   ]
  },
  {
   "cell_type": "markdown",
   "metadata": {},
   "source": [
    "#### Remarks\n",
    "\n",
    "In this case, we see two cluster elements with largest size with a lower score. Although because the sample is small, we cannot make any inferences. "
   ]
  },
  {
   "cell_type": "markdown",
   "metadata": {},
   "source": [
    "### Your turn\n",
    "\n",
    "Exercise 1)\n",
    "\n",
    "Repeat the exercise above with ClusterA:\n",
    "\n",
    "1) Create a clean dataframe from data for A:\n",
    "Hint:  ClusterA_Data_Frame = clean_data_pair[  ]\n",
    "\n",
    "2) Print ClusterA_Data_Frame\n",
    "\n",
    "3) Plot frequency and compare size vs scores. \n",
    "\n",
    "Exercise 2)\n",
    "\n",
    "Open the analyze.py script along with the output-.out files and discuss with a peer how the use of comprehension lists and dataframes made plotting results possible. \n",
    "\n",
    "What other kinds of information can you extract from the F1_Data_Frame and the F2_Data_Frame?"
   ]
  }
 ],
 "metadata": {
  "kernelspec": {
   "display_name": "Python 3",
   "language": "python",
   "name": "python3"
  },
  "language_info": {
   "codemirror_mode": {
    "name": "ipython",
    "version": 3
   },
   "file_extension": ".py",
   "mimetype": "text/x-python",
   "name": "python",
   "nbconvert_exporter": "python",
   "pygments_lexer": "ipython3",
   "version": "3.6.4"
  }
 },
 "nbformat": 4,
 "nbformat_minor": 2
}
