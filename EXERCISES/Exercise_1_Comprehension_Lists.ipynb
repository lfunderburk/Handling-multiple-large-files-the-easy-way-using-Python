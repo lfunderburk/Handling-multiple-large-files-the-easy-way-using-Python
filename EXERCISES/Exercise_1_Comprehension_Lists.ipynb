{
 "cells": [
  {
   "cell_type": "markdown",
   "metadata": {},
   "source": [
    "# Exercise 1: Comprehension Lists\n",
    "\n",
    "Author: Laura Gutierrez Funderburk\n",
    "\n",
    "Created on: April 18 2018\n",
    "\n",
    "Last modified on: \n",
    "\n",
    "### Abstract\n",
    "\n",
    "In this notebook, I will walk you through simple exercises involving comprehension lists. I will cite a simple definition and provide different settings that involve comprehension lists. At the end of this exercise, the goal is for the participant to learn how to use comprehension lists to read and write files. "
   ]
  },
  {
   "cell_type": "markdown",
   "metadata": {},
   "source": [
    "### Introduction and Definitions\n",
    "\n",
    "Recall structure of a for loop, while loop and if statement\n",
    "\n",
    "What are comprehension lists\n",
    "\n"
   ]
  },
  {
   "cell_type": "markdown",
   "metadata": {},
   "source": [
    "### From for loops to comprehension lists\n",
    "\n",
    "In this section we will take the exercises involving for loops from Exercise 0, and will transform them into comprehension lists. "
   ]
  },
  {
   "cell_type": "markdown",
   "metadata": {},
   "source": [
    "### Comprehension lists with a while statement\n",
    "\n",
    "This exercise is similar to the above. Instead of using for loops, we will use a while statement instead. "
   ]
  },
  {
   "cell_type": "markdown",
   "metadata": {},
   "source": [
    "### Comprehension lists with an if statement\n",
    "\n",
    "Now that we have mastered the basic syntax of comprehension lists, let us dial things up one more level. This time we will add an if statement. "
   ]
  },
  {
   "cell_type": "markdown",
   "metadata": {},
   "source": [
    "### Nested comprehension lists\n",
    "\n",
    "As the title suggests, we will now define a comprehension list within a comprehension list. "
   ]
  },
  {
   "cell_type": "markdown",
   "metadata": {},
   "source": [
    "### Exercises Involving Files\n",
    "\n",
    "Now that we are more used to using comprehension lists, we will use them to our advantage when handling multiple files. \n",
    "\n",
    "(Explain background)"
   ]
  },
  {
   "cell_type": "markdown",
   "metadata": {},
   "source": [
    "### Your turn\n",
    "\n",
    "In this section, you will be given a number of files, and your job is to use comprehension lists to access specific information within them. I have stored the files into tables to make things easier. "
   ]
  },
  {
   "cell_type": "code",
   "execution_count": null,
   "metadata": {
    "collapsed": true
   },
   "outputs": [],
   "source": []
  }
 ],
 "metadata": {
  "kernelspec": {
   "display_name": "Python 3",
   "language": "python",
   "name": "python3"
  },
  "language_info": {
   "codemirror_mode": {
    "name": "ipython",
    "version": 3
   },
   "file_extension": ".py",
   "mimetype": "text/x-python",
   "name": "python",
   "nbconvert_exporter": "python",
   "pygments_lexer": "ipython3",
   "version": "3.6.1"
  }
 },
 "nbformat": 4,
 "nbformat_minor": 2
}
